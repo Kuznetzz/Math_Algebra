{
 "cells": [
  {
   "cell_type": "code",
   "execution_count": 289,
   "metadata": {},
   "outputs": [],
   "source": [
    "import pandas as pd\n",
    "import numpy as np \n",
    "import matplotlib.pyplot as plt\n",
    "%matplotlib inline\n",
    "import re"
   ]
  },
  {
   "cell_type": "markdown",
   "metadata": {},
   "source": [
    "### Задание 1 \n"
   ]
  },
  {
   "cell_type": "markdown",
   "metadata": {},
   "source": [
    "#### Вычислите:"
   ]
  },
  {
   "cell_type": "markdown",
   "metadata": {},
   "source": [
    "<img src='Matrix_operation.png'>"
   ]
  },
  {
   "cell_type": "code",
   "execution_count": 290,
   "metadata": {},
   "outputs": [
    {
     "data": {
      "text/plain": [
       "array([[ 5. , 10. ],\n",
       "       [ 7. , 12. ],\n",
       "       [11.3,  5. ],\n",
       "       [25. , 30. ]])"
      ]
     },
     "execution_count": 290,
     "metadata": {},
     "output_type": "execute_result"
    }
   ],
   "source": [
    "a  = np.array([[5,7,11.3,25],[10,12,5,30]]).T\n",
    "a"
   ]
  },
  {
   "cell_type": "code",
   "execution_count": 291,
   "metadata": {},
   "outputs": [
    {
     "data": {
      "text/plain": [
       "array([[ 45. ,  90. ],\n",
       "       [ 63. , 108. ],\n",
       "       [101.7,  45. ],\n",
       "       [225. , 270. ]])"
      ]
     },
     "execution_count": 291,
     "metadata": {},
     "output_type": "execute_result"
    }
   ],
   "source": [
    "7*a+2*a"
   ]
  },
  {
   "cell_type": "markdown",
   "metadata": {},
   "source": [
    "### Задание 2"
   ]
  },
  {
   "cell_type": "markdown",
   "metadata": {},
   "source": [
    "#### 1.Решите систему уравнений"
   ]
  },
  {
   "cell_type": "markdown",
   "metadata": {},
   "source": [
    "### 3x – 2y + 5z = 7\n",
    "### 7x + 4y – 8z = 3\n",
    "### 5x – 3y – 4z = –12"
   ]
  },
  {
   "cell_type": "markdown",
   "metadata": {},
   "source": [
    "#### Линейная или нелинейная это система? А каждое уравнение по отдельности?"
   ]
  },
  {
   "cell_type": "code",
   "execution_count": 292,
   "metadata": {},
   "outputs": [],
   "source": [
    "system_eq = [\"3x -2y +5z = 7\",\"7x +4y -8z = 3\",\"5x -3y -4z = -12\"]"
   ]
  },
  {
   "cell_type": "code",
   "execution_count": 293,
   "metadata": {},
   "outputs": [],
   "source": [
    "cramer_matrix = np.array([],int)\n",
    "right_matrix = np.array([],int)\n",
    "for i in system_eq:\n",
    "    numbers = [int(i) for i in re.findall(\"[-+]?[.]?[\\d]+(?:,\\d\\d\\d)*[\\.]?\\d*(?:[eE][-+]?\\d+)?\", i)]\n",
    "    cramer_matrix = np.append(cramer_matrix, numbers[:-1])\n",
    "    right_matrix = np.append(right_matrix, numbers[-1:])\n",
    "    "
   ]
  },
  {
   "cell_type": "code",
   "execution_count": 294,
   "metadata": {},
   "outputs": [
    {
     "data": {
      "text/plain": [
       "array([[ 3, -2,  5],\n",
       "       [ 7,  4, -8],\n",
       "       [ 5, -3, -4]])"
      ]
     },
     "execution_count": 294,
     "metadata": {},
     "output_type": "execute_result"
    }
   ],
   "source": [
    "cramer_matrix = cramer_matrix.reshape(-1,3)\n",
    "cramer_matrix"
   ]
  },
  {
   "cell_type": "code",
   "execution_count": 295,
   "metadata": {},
   "outputs": [
    {
     "name": "stdout",
     "output_type": "stream",
     "text": [
      "Right answers:\n",
      "X = 1\n",
      "Y = 3\n",
      "Z = 2\n"
     ]
    }
   ],
   "source": [
    "variables = [\"X\",\"Y\",\"Z\"]\n",
    "\n",
    "if np.linalg.det(cramer_matrix):\n",
    "    ans = []\n",
    "    print(\"Right answers:\")\n",
    "    for i,j in enumerate([\"X\",\"Y\",\"Z\"]):\n",
    "        temp = cramer_matrix.copy()\n",
    "        temp[:,i] = right_matrix\n",
    "        det = int(np.round(np.linalg.det(temp) / np.round(np.linalg.det(cramer_matrix))))\n",
    "        ans.append(det)\n",
    "        print(f\"{j} = {det}\")\n",
    "else:\n",
    "    print(\"No Solution!!\")"
   ]
  },
  {
   "cell_type": "code",
   "execution_count": 296,
   "metadata": {},
   "outputs": [
    {
     "name": "stdout",
     "output_type": "stream",
     "text": [
      "3x -2y +5z = 7    is right, with right answers!\n",
      "7x +4y -8z = 3    is right, with right answers!\n",
      "5x -3y -4z = -12  is right, with right answers!\n"
     ]
    }
   ],
   "source": [
    "# checking\n",
    "for i,j in enumerate (cramer_matrix):\n",
    "    if sum(j * ans) == right_matrix[i]:\n",
    "        print(f\"{system_eq[i]:<17} is right, with right answers!\")\n",
    "    else: assert False"
   ]
  },
  {
   "cell_type": "code",
   "execution_count": 297,
   "metadata": {},
   "outputs": [],
   "source": [
    "# система и уравнения линейнае"
   ]
  },
  {
   "cell_type": "markdown",
   "metadata": {},
   "source": [
    "#### 2.Решите систему уравнений:"
   ]
  },
  {
   "cell_type": "markdown",
   "metadata": {},
   "source": [
    "### x2 + y∙x – 9 = 0\n",
    "### x – y/5 = 0"
   ]
  },
  {
   "cell_type": "markdown",
   "metadata": {},
   "source": [
    "#### Линейная или нелинейная это система? А каждое уравнение по отдельности?"
   ]
  },
  {
   "cell_type": "code",
   "execution_count": 298,
   "metadata": {},
   "outputs": [],
   "source": [
    "# Результат решения системы ур-ний:"
   ]
  },
  {
   "cell_type": "code",
   "execution_count": 299,
   "metadata": {},
   "outputs": [],
   "source": [
    "# y = 5x"
   ]
  },
  {
   "cell_type": "code",
   "execution_count": 300,
   "metadata": {},
   "outputs": [],
   "source": [
    "# x*x + 5*x*x - 9 = 0"
   ]
  },
  {
   "cell_type": "code",
   "execution_count": 301,
   "metadata": {},
   "outputs": [],
   "source": [
    "# 6 * x * x - 9 = 0"
   ]
  },
  {
   "cell_type": "code",
   "execution_count": 302,
   "metadata": {},
   "outputs": [],
   "source": [
    "a = 6\n",
    "b = 0\n",
    "c = -9\n",
    "\n",
    "discrim = (b**2) - (4 * a * c)\n",
    "\n",
    "sol1 = ((b*-1)+discrim**0.5)/(2*a)\n",
    "sol2 = ((b*-1)-discrim**0.5)/(2*a)\n"
   ]
  },
  {
   "cell_type": "code",
   "execution_count": 303,
   "metadata": {},
   "outputs": [
    {
     "name": "stdout",
     "output_type": "stream",
     "text": [
      "Equation has 2 solutions:\n",
      "First solution:  X =  1.2247448713915892, Y =  6.123724356957946 \n",
      "Second solution: X = -1.2247448713915892, Y = -6.123724356957946 \n"
     ]
    }
   ],
   "source": [
    "print (\"Equation has 2 solutions:\")\n",
    "print(f\"First solution:  X = {sol1:>19}, Y = {sol1*5:>18} \")\n",
    "print(f\"Second solution: X = {sol2:>19}, Y = {sol2*5:>18} \")"
   ]
  },
  {
   "cell_type": "code",
   "execution_count": 304,
   "metadata": {},
   "outputs": [],
   "source": [
    "# система нелинейная, первое уравнение - квадратное, второе - линейное."
   ]
  },
  {
   "cell_type": "markdown",
   "metadata": {},
   "source": [
    "### Задание 3"
   ]
  },
  {
   "cell_type": "markdown",
   "metadata": {},
   "source": [
    "#### Решите задачу:\n",
    "#### Площадь пола прямоугольной комнаты равна 48 м2,а его периметр равен 28 м. Найдите длину и ширину комнаты."
   ]
  },
  {
   "cell_type": "code",
   "execution_count": 305,
   "metadata": {},
   "outputs": [],
   "source": [
    "# x * y = 48"
   ]
  },
  {
   "cell_type": "code",
   "execution_count": 306,
   "metadata": {},
   "outputs": [],
   "source": [
    "# 2 * x + 2 * y  = 28  // transformation & simplification"
   ]
  },
  {
   "cell_type": "code",
   "execution_count": 307,
   "metadata": {},
   "outputs": [],
   "source": [
    "# x = 14 - y"
   ]
  },
  {
   "cell_type": "code",
   "execution_count": 308,
   "metadata": {},
   "outputs": [],
   "source": [
    "# (14 - y) * y = 48"
   ]
  },
  {
   "cell_type": "code",
   "execution_count": 309,
   "metadata": {},
   "outputs": [],
   "source": [
    "# 14*y - y*y = 48"
   ]
  },
  {
   "cell_type": "code",
   "execution_count": 310,
   "metadata": {},
   "outputs": [],
   "source": [
    "# y*y - 14*y  + 48 = 0"
   ]
  },
  {
   "cell_type": "code",
   "execution_count": 311,
   "metadata": {},
   "outputs": [],
   "source": [
    "a = 1\n",
    "b = -14\n",
    "c = 48\n",
    "\n",
    "discrim = (b**2) - (4 * a * c)\n",
    "\n",
    "sol1 = ((b*-1)+discrim**0.5)/(2*a)\n",
    "sol2 = ((b*-1)-discrim**0.5)/(2*a)"
   ]
  },
  {
   "cell_type": "code",
   "execution_count": 312,
   "metadata": {},
   "outputs": [
    {
     "name": "stdout",
     "output_type": "stream",
     "text": [
      "Equation has 2 solutions:\n",
      "First solution:  X = 8.0,  Y = 6.0 \n",
      "Second solution: X = 6.0,  Y = 8.0 \n",
      "\n",
      "Right answer: room's length = 8m , room's width = 6m\n"
     ]
    }
   ],
   "source": [
    "print (\"Equation has 2 solutions:\")\n",
    "print(f\"First solution:  X = {sol1:>3},  Y = {14 - sol1:>3} \")\n",
    "print(f\"Second solution: X = {sol2:>3},  Y = {14 - sol2:>3} \")\n",
    "print()\n",
    "print(\"Right answer: room's length = 8m , room's width = 6m\")"
   ]
  },
  {
   "cell_type": "markdown",
   "metadata": {},
   "source": [
    "### Задание 4"
   ]
  },
  {
   "cell_type": "markdown",
   "metadata": {},
   "source": [
    "#### Постройте на одном графике две кривые y(x) для функции двух\n",
    "#### переменной y(k,x)=cos(k∙x), взяв для одной кривой значение k=1,\n",
    "#### а для другой – любое другое k, не равное 1"
   ]
  },
  {
   "cell_type": "code",
   "execution_count": 313,
   "metadata": {},
   "outputs": [],
   "source": [
    "K1 = 1 \n",
    "K2 = 2"
   ]
  },
  {
   "cell_type": "code",
   "execution_count": 314,
   "metadata": {},
   "outputs": [
    {
     "data": {
      "image/png": "[encoded data removed]",
      "text/plain": [
       "<Figure size 432x288 with 1 Axes>"
      ]
     },
     "metadata": {
      "needs_background": "light"
     },
     "output_type": "display_data"
    }
   ],
   "source": [
    "x = np.linspace(0,8,100)\n",
    "plt.plot(x, np.cos(x * K1), color = \"red\", label = f\"K = {K1}\");\n",
    "plt.plot(x, np.cos(x * K2), color = \"blue\", label = f\"K = {K2}\");\n",
    "plt.xlabel(\"X\");\n",
    "plt.ylabel(\"cos(K * X)\");\n",
    "plt.legend(loc = 1);"
   ]
  }
 ],
 "metadata": {
  "kernelspec": {
   "display_name": "Python 3",
   "language": "python",
   "name": "python3"
  },
  "language_info": {
   "codemirror_mode": {
    "name": "ipython",
    "version": 3
   },
   "file_extension": ".py",
   "mimetype": "text/x-python",
   "name": "python",
   "nbconvert_exporter": "python",
   "pygments_lexer": "ipython3",
   "version": "3.7.1"
  }
 },
 "nbformat": 4,
 "nbformat_minor": 2
}
